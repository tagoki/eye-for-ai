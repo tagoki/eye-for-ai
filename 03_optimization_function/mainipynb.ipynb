{
 "cells": [
  {
   "cell_type": "markdown",
   "id": "16c0d0cf",
   "metadata": {},
   "source": [
    "# Работа с функциями оптимизации и трансформации в OpenCV"
   ]
  },
  {
   "cell_type": "code",
   "execution_count": 2,
   "id": "6c6bff1b",
   "metadata": {},
   "outputs": [],
   "source": [
    "import cv2\n",
    "import numpy as np"
   ]
  },
  {
   "cell_type": "code",
   "execution_count": 3,
   "id": "3f6250d8",
   "metadata": {},
   "outputs": [],
   "source": [
    "img = cv2.imread('images/image.jpg')\n",
    "cv2.imshow('res', img)\n",
    "cv2.waitKey(0)\n",
    "cv2.destroyAllWindows()"
   ]
  },
  {
   "cell_type": "markdown",
   "id": "0276ca95",
   "metadata": {},
   "source": [
    "## Работа с функциями оптимизации"
   ]
  },
  {
   "cell_type": "markdown",
   "id": "0a268660",
   "metadata": {},
   "source": [
    "Работа с функциями оптимизации важна, потому что изображения не всегда поступают в хорошем качестве — часто они содержат шум, зернистость и другие искажения. Такие дефекты ухудшают последующую обработку изображений. Функции оптимизации помогают устранить эти недостатки и улучшить общее качество, делая изображение более пригодным для анализа."
   ]
  },
  {
   "cell_type": "markdown",
   "id": "f45dd6d9",
   "metadata": {},
   "source": [
    "### Размытие изображения"
   ]
  },
  {
   "cell_type": "markdown",
   "id": "96a21384",
   "metadata": {},
   "source": [
    "Размытие часто применяется для сглаживания шумов, например, от камер видеонаблюдения. Это необходимо для дальнейшего анализа и обработки фотографии или видео"
   ]
  },
  {
   "cell_type": "code",
   "execution_count": null,
   "id": "772dc075",
   "metadata": {},
   "outputs": [],
   "source": [
    "img = cv2.GaussianBlur(img, (7, 7), 15)  \n",
    "# Первый аргумент - исходное изображение, которое нужно размыть.\n",
    "# Второй аргумент - размер ядра размытия (ширина и высота). Размер должен быть нечётным и положительным числом \n",
    "# Третий аргумент - sigmaX, стандартное отклонение по оси X, определяющее степень размытия. Если указать 0, OpenCV автоматически вычислит sigma на основе размера ядра.\n",
    "cv2.imshow('res', img)\n",
    "cv2.waitKey(0)\n",
    "cv2.destroyAllWindows()"
   ]
  },
  {
   "cell_type": "markdown",
   "id": "49abfe8b",
   "metadata": {},
   "source": [
    "### Удаление шума"
   ]
  },
  {
   "cell_type": "code",
   "execution_count": null,
   "id": "90d9d5fe",
   "metadata": {},
   "outputs": [],
   "source": [
    "img = cv2.bilateralFilter(img, 10, 75, 75)  \n",
    "# Первый аргумент — исходное изображение.\n",
    "# Второй аргумент — диаметр соседства вокруг каждого пикселя, по которому происходит фильтрация. Чем больше, тем шире область влияния.\n",
    "# Третий аргумент — sigma по цвету, показывает, насколько различия в цвете влияют на сглаживание. Чем больше значение, тем меньший вес имеют большие различия, то есть края лучше сохраняются.\n",
    "# Четвёртый аргумент — sigma по пространству, показывает, насколько далеко по координатам пиксели влияют друг на друга. Чем больше значение, тем сильнее размытие за счёт расширения области влияния."
   ]
  }
 ],
 "metadata": {
  "kernelspec": {
   "display_name": "Python 3",
   "language": "python",
   "name": "python3"
  },
  "language_info": {
   "codemirror_mode": {
    "name": "ipython",
    "version": 3
   },
   "file_extension": ".py",
   "mimetype": "text/x-python",
   "name": "python",
   "nbconvert_exporter": "python",
   "pygments_lexer": "ipython3",
   "version": "3.12.7"
  }
 },
 "nbformat": 4,
 "nbformat_minor": 5
}
