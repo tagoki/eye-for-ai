{
 "cells": [
  {
   "cell_type": "markdown",
   "id": "f9e75fab",
   "metadata": {},
   "source": [
    "# Введение в основы библиотеки OpenCV\n",
    "\n",
    "## План:\n",
    "\n",
    "- Чтение, отображение изображений и вывод основной информации о них\n",
    "- Изменение масштаба изображений\n",
    "- Чтение и отображение видео\n",
    "- Уменьшение размеров видео\n",
    "- Работа с веб-камерой\n"
   ]
  },
  {
   "cell_type": "code",
   "execution_count": 5,
   "id": "28fbcf93",
   "metadata": {},
   "outputs": [],
   "source": [
    "import cv2"
   ]
  },
  {
   "cell_type": "markdown",
   "id": "76c8771f",
   "metadata": {},
   "source": [
    "## Чтение, отображение изображений и вывод основной информации о них"
   ]
  },
  {
   "cell_type": "code",
   "execution_count": 6,
   "id": "77a67184",
   "metadata": {},
   "outputs": [],
   "source": [
    "img = cv2.imread('images/photo.jpg')"
   ]
  },
  {
   "cell_type": "code",
   "execution_count": null,
   "id": "638d17c6",
   "metadata": {},
   "outputs": [],
   "source": [
    "cv2.imshow('result', img)  # Вывод изображения. Первый аргумент — название окна, второй — само изображение\n",
    "cv2.waitKey(0)             # Бесконечно ждёт нажатия клавиши. Если указать число, например 1000 — ждёт столько миллисекунд (1 секунда = 1000 мс)\n",
    "cv2.destroyAllWindows()    # Закрывает все открытые окна OpenCV"
   ]
  },
  {
   "cell_type": "code",
   "execution_count": null,
   "id": "e8834da6",
   "metadata": {},
   "outputs": [
    {
     "name": "stdout",
     "output_type": "stream",
     "text": [
      "(5000, 3974, 3)\n"
     ]
    }
   ],
   "source": [
    "print(img.shape) # Выводит размеры изображения: (высота, ширина, количество каналов)\n",
    "                 # Например, для цветного изображения: \n",
    "                 # 1-е число — высота (число строк),\n",
    "                 # 2-е число — ширина (число столбцов),\n",
    "                 # 3-е число — количество цветовых каналов (например, 3 для RGB)"
   ]
  },
  {
   "cell_type": "markdown",
   "id": "5330cb19",
   "metadata": {},
   "source": [
    "## Изменение масштаба"
   ]
  },
  {
   "cell_type": "code",
   "execution_count": 14,
   "id": "1df1669f",
   "metadata": {
    "scrolled": true
   },
   "outputs": [],
   "source": [
    "img = cv2.resize(img, (img.shape[0] // 5, img.shape[1] // 5)) # пропоцрионально изменим изображения в пять раз по высоте и ширине"
   ]
  },
  {
   "cell_type": "code",
   "execution_count": 15,
   "id": "ee9f8ab7",
   "metadata": {},
   "outputs": [
    {
     "data": {
      "text/plain": [
       "-1"
      ]
     },
     "execution_count": 15,
     "metadata": {},
     "output_type": "execute_result"
    }
   ],
   "source": [
    "cv2.imshow('result', img)\n",
    "cv2.waitKey(0)"
   ]
  },
  {
   "cell_type": "markdown",
   "id": "37ced190",
   "metadata": {},
   "source": [
    "## Чтение и отображение видео"
   ]
  },
  {
   "cell_type": "code",
   "execution_count": 17,
   "id": "6913d689",
   "metadata": {},
   "outputs": [],
   "source": [
    "video = cv2.VideoCapture('videos/video.mp4')  # Открываем видеофайл\n",
    "\n",
    "while True:\n",
    "    success, cur_img = video.read()  # success — статус чтения кадра: True, если кадр получен, False — если видео закончилось\n",
    "    cv2.imshow('result', cur_img)  # Показываем текущий кадр\n",
    "\n",
    "    if cv2.waitKey(1) & 0xFF == ord('q'):\n",
    "        # Проверяем, нажата ли клавиша 'q' для выхода из цикла\n",
    "        # cv2.waitKey(1) ждёт нажатия клавиши 1 миллисекунду и возвращает её код\n",
    "        # Иногда возвращаемое значение содержит лишние биты, поэтому применяем побитовую операцию AND с 0xFF (255), чтобы взять только младшие 8 бит\n",
    "        # Далее сравниваем полученный код с ASCII-кодом символа 'q'\n",
    "        # Если совпадают — прерываем цикл\n",
    "        break\n",
    "\n",
    "video.release()  # Освобождаем ресурс видео (важно для корректного закрытия и освобождения камеры или файла)\n",
    "cv2.destroyAllWindows()  # Закрываем все окна OpenCV\n",
    "\n"
   ]
  },
  {
   "cell_type": "markdown",
   "id": "cbe72291",
   "metadata": {},
   "source": [
    "Поскольку видео — это последовательность изображений, которые быстро сменяют друг друга, для воспроизведения мы используем цикл. Этот цикл последовательно читает и отображает каждый кадр, создавая эффект движения"
   ]
  },
  {
   "cell_type": "markdown",
   "id": "505a9402",
   "metadata": {},
   "source": [
    "## Изменение размера видео\n"
   ]
  },
  {
   "cell_type": "code",
   "execution_count": 20,
   "id": "f6ab4e80",
   "metadata": {},
   "outputs": [
    {
     "data": {
      "text/plain": [
       "False"
      ]
     },
     "execution_count": 20,
     "metadata": {},
     "output_type": "execute_result"
    }
   ],
   "source": [
    "# 1-ое число - это id. \n",
    "# id ширины = 3 \n",
    "# id высоты = 4\n",
    "video.set(3, 100)\n",
    "video.set(4,100)"
   ]
  },
  {
   "cell_type": "markdown",
   "id": "24f20378",
   "metadata": {},
   "source": [
    "## Работа с веб-камерой"
   ]
  },
  {
   "cell_type": "code",
   "execution_count": null,
   "id": "062ab9fc",
   "metadata": {},
   "outputs": [],
   "source": [
    "import cv2\n",
    "\n",
    "# Открываем доступ к веб-камере (0 — это индекс камеры, обычно встроенная)\n",
    "video_camera = cv2.VideoCapture(0)\n",
    "\n",
    "while True:\n",
    "    status, frame = video_camera.read()  # Считываем кадр с камеры\n",
    "\n",
    "\n",
    "    cv2.imshow('frame', frame)\n",
    "\n",
    "    if cv2.waitKey(1) & 0xFF == ord('q'):\n",
    "        break\n",
    "\n",
    "# Освобождаем камеру и закрываем все окна\n",
    "video_camera.release()\n",
    "cv2.destroyAllWindows()\n"
   ]
  },
  {
   "cell_type": "markdown",
   "id": "8153ada0",
   "metadata": {},
   "source": [
    "Поскольку изображение с веб-камеры - это по сути потоковое видео (то есть последовательность быстро сменяющихся изображений), мы считываем кадры с неё в цикле и сразу отображаем на экране"
   ]
  }
 ],
 "metadata": {
  "kernelspec": {
   "display_name": "Python 3",
   "language": "python",
   "name": "python3"
  },
  "language_info": {
   "codemirror_mode": {
    "name": "ipython",
    "version": 3
   },
   "file_extension": ".py",
   "mimetype": "text/x-python",
   "name": "python",
   "nbconvert_exporter": "python",
   "pygments_lexer": "ipython3",
   "version": "3.12.7"
  }
 },
 "nbformat": 4,
 "nbformat_minor": 5
}
