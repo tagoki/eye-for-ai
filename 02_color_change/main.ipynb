{
 "cells": [
  {
   "cell_type": "markdown",
   "id": "94eecbe9",
   "metadata": {},
   "source": [
    "# Работа с цветами в OpenCV\n",
    "\n",
    "## План:\n",
    "- Перевод между цветовыми форматами\n",
    "- Разделение изображения на каналы\n",
    "- Объединение каналов в изображение\n"
   ]
  },
  {
   "cell_type": "code",
   "execution_count": 2,
   "id": "270baef1",
   "metadata": {},
   "outputs": [],
   "source": [
    "import cv2"
   ]
  },
  {
   "cell_type": "markdown",
   "id": "ccf642c3",
   "metadata": {},
   "source": [
    "## Перевод между цветовыми форма"
   ]
  },
  {
   "cell_type": "code",
   "execution_count": null,
   "id": "303d3058",
   "metadata": {},
   "outputs": [],
   "source": [
    "img = cv2.imread('images/image.jpg') #Когда мы читаем изображение с помощью этой функции цветовой формат по умолчанию — BGR (Blue, Green, Red), а не привычный RGB\n",
    "\n",
    "cv2.imshow('result', img)\n",
    "cv2.waitKey(0)\n",
    "cv2.destroyAllWindows()"
   ]
  },
  {
   "cell_type": "code",
   "execution_count": null,
   "id": "b266985e",
   "metadata": {},
   "outputs": [],
   "source": [
    "img_rgb = cv2.cvtColor(img, cv2.COLOR_BGR2RGB) # По умолчанию OpenCV читает изображения в формате BGR.Однако многие библиотеки, такие как Matplotlib, ожидают изображения в формате RGB.\n"
   ]
  },
  {
   "cell_type": "code",
   "execution_count": null,
   "id": "c86d0a3c",
   "metadata": {},
   "outputs": [],
   "source": [
    "img_gray = cv2.cvtColor(img, cv2.COLOR_BGR2GRAY) # Часто при работе с изображениями в задачах машинного обучения используется упрощённый формат — Grayscale(оттенки серого), так как он снижает размерность входных данных без потери основной информации."
   ]
  },
  {
   "cell_type": "markdown",
   "id": "3e2bcc30",
   "metadata": {},
   "source": [
    "## Разбиение на слои "
   ]
  },
  {
   "cell_type": "code",
   "execution_count": 9,
   "id": "162a0d9b",
   "metadata": {},
   "outputs": [],
   "source": [
    "cv2.imshow('RGB', img_rgb)\n",
    "cv2.imshow('GRAY', img_gray)\n",
    "cv2.waitKey(0)\n",
    "cv2.destroyAllWindows()"
   ]
  },
  {
   "cell_type": "code",
   "execution_count": null,
   "id": "02b80ba9",
   "metadata": {},
   "outputs": [],
   "source": [
    "r,g,b = cv2.split(img_rgb)\n",
    "cv2.imshow('result', b) #выводим синий канал \n",
    "\n",
    "\n",
    "cv2.waitKey(0)\n",
    "cv2.destroyAllWindows()"
   ]
  },
  {
   "cell_type": "markdown",
   "id": "74ae5465",
   "metadata": {},
   "source": [
    "## Объединение каналов "
   ]
  },
  {
   "cell_type": "code",
   "execution_count": 8,
   "id": "c59ad8e7",
   "metadata": {},
   "outputs": [],
   "source": [
    "merge_img = cv2.merge([r,g,b])\n",
    "cv2.imshow('merge', merge_img)\n",
    "cv2.waitKey(0)\n",
    "cv2.destroyAllWindows()"
   ]
  }
 ],
 "metadata": {
  "kernelspec": {
   "display_name": "Python 3",
   "language": "python",
   "name": "python3"
  },
  "language_info": {
   "codemirror_mode": {
    "name": "ipython",
    "version": 3
   },
   "file_extension": ".py",
   "mimetype": "text/x-python",
   "name": "python",
   "nbconvert_exporter": "python",
   "pygments_lexer": "ipython3",
   "version": "3.12.7"
  }
 },
 "nbformat": 4,
 "nbformat_minor": 5
}
